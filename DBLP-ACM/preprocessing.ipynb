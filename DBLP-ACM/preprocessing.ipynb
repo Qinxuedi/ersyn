{
 "cells": [
  {
   "cell_type": "code",
   "execution_count": 1,
   "metadata": {},
   "outputs": [],
   "source": [
    "import sys\n",
    "import py_entitymatching as em\n",
    "import pandas as pd\n",
    "import os"
   ]
  },
  {
   "cell_type": "code",
   "execution_count": 2,
   "metadata": {},
   "outputs": [],
   "source": [
    "# Transform DBLP2.csv and ACM.csv to lower and\n",
    "# Get id_to_index\n",
    "DBLP2=pd.read_csv('csv_files/DBLP2.csv')\n",
    "DBLP2_lower=open('csv_files/DBLP2_lower.csv','w')\n",
    "DBLP2_lower.write('\"id\",\"title\",\"authors\",\"venue\",\"year\"\\n')\n",
    "DBLP2_id_to_index={}\n",
    "for index, row in DBLP2.iterrows():\n",
    "    id,title,authors,venue,year=row['id'],row['title'],row['authors'],row['venue'],row['year']\n",
    "    DBLP2_id_to_index[id]=index\n",
    "    DBLP2_lower.write('\"{}\",\"{}\",\"{}\",\"{}\",{}\\n'.format(id,title.lower().strip(),authors.lower().strip(),venue.lower().strip(),year))\n",
    "DBLP2_lower.close()\n",
    "\n",
    "ACM=pd.read_csv('csv_files/ACM.csv')\n",
    "ACM_lower=open('csv_files/ACM_lower.csv','w')\n",
    "ACM_lower.write('\"id\",\"title\",\"authors\",\"venue\",\"year\"\\n')\n",
    "ACM_id_to_index={}\n",
    "for index, row in ACM.iterrows():\n",
    "    id,title,authors,venue,year=row['id'],row['title'],row['authors'],row['venue'],row['year']\n",
    "    if pd.isnull(authors):\n",
    "        authors=''\n",
    "    ACM_id_to_index[id]=index\n",
    "    ACM_lower.write('{},\"{}\",\"{}\",\"{}\",{}\\n'.format(id,title.lower().strip(),authors.lower().strip(),venue.lower().strip(),year))\n",
    "ACM_lower.close()"
   ]
  },
  {
   "cell_type": "code",
   "execution_count": 2,
   "metadata": {},
   "outputs": [],
   "source": [
    "path_A='csv_files/DBLP2_lower.csv'\n",
    "path_B='csv_files/ACM_lower.csv'"
   ]
  },
  {
   "cell_type": "code",
   "execution_count": 3,
   "metadata": {},
   "outputs": [
    {
     "name": "stderr",
     "output_type": "stream",
     "text": [
      "Metadata file is not present in the given path; proceeding to read the csv file.\n",
      "Metadata file is not present in the given path; proceeding to read the csv file.\n"
     ]
    },
    {
     "data": {
      "text/plain": [
       "('id', 'id')"
      ]
     },
     "execution_count": 3,
     "metadata": {},
     "output_type": "execute_result"
    }
   ],
   "source": [
    "A=em.read_csv_metadata(path_A,key='id')\n",
    "B=em.read_csv_metadata(path_B,key='id')\n",
    "em.get_key(A), em.get_key(B)"
   ]
  },
  {
   "cell_type": "code",
   "execution_count": 4,
   "metadata": {},
   "outputs": [
    {
     "name": "stdout",
     "output_type": "stream",
     "text": [
      "Number of tuples in A: 2616\n",
      "Number of tuples in B: 2294\n",
      "Number of tuples in A X B (i.e the cartesian product): 6001104\n"
     ]
    }
   ],
   "source": [
    "print('Number of tuples in A: ' + str(len(A)))\n",
    "print('Number of tuples in B: ' + str(len(B)))\n",
    "print('Number of tuples in A X B (i.e the cartesian product): ' + str(len(A)*len(B)))"
   ]
  },
  {
   "cell_type": "code",
   "execution_count": 5,
   "metadata": {},
   "outputs": [
    {
     "data": {
      "text/html": [
       "<div>\n",
       "<style scoped>\n",
       "    .dataframe tbody tr th:only-of-type {\n",
       "        vertical-align: middle;\n",
       "    }\n",
       "\n",
       "    .dataframe tbody tr th {\n",
       "        vertical-align: top;\n",
       "    }\n",
       "\n",
       "    .dataframe thead th {\n",
       "        text-align: right;\n",
       "    }\n",
       "</style>\n",
       "<table border=\"1\" class=\"dataframe\">\n",
       "  <thead>\n",
       "    <tr style=\"text-align: right;\">\n",
       "      <th></th>\n",
       "      <th>id</th>\n",
       "      <th>title</th>\n",
       "      <th>authors</th>\n",
       "      <th>venue</th>\n",
       "      <th>year</th>\n",
       "    </tr>\n",
       "  </thead>\n",
       "  <tbody>\n",
       "    <tr>\n",
       "      <th>0</th>\n",
       "      <td>journals/sigmod/Mackay99</td>\n",
       "      <td>semantic integration of environmental models for application to global information systems and d...</td>\n",
       "      <td>d. scott mackay</td>\n",
       "      <td>sigmod record</td>\n",
       "      <td>1999</td>\n",
       "    </tr>\n",
       "    <tr>\n",
       "      <th>1</th>\n",
       "      <td>conf/vldb/PoosalaI96</td>\n",
       "      <td>estimation of query-result distribution and its application in parallel-join load balancing</td>\n",
       "      <td>viswanath poosala, yannis e. ioannidis</td>\n",
       "      <td>vldb</td>\n",
       "      <td>1996</td>\n",
       "    </tr>\n",
       "    <tr>\n",
       "      <th>2</th>\n",
       "      <td>conf/vldb/PalpanasSCP02</td>\n",
       "      <td>incremental maintenance for non-distributive aggregate functions</td>\n",
       "      <td>themistoklis palpanas, richard sidle, hamid pirahesh, roberta cochrane</td>\n",
       "      <td>vldb</td>\n",
       "      <td>2002</td>\n",
       "    </tr>\n",
       "    <tr>\n",
       "      <th>3</th>\n",
       "      <td>conf/vldb/GardarinGT96</td>\n",
       "      <td>cost-based selection of path expression processing algorithms in object-oriented databases</td>\n",
       "      <td>zhao-hui tang, georges gardarin, jean-robert gruser</td>\n",
       "      <td>vldb</td>\n",
       "      <td>1996</td>\n",
       "    </tr>\n",
       "    <tr>\n",
       "      <th>4</th>\n",
       "      <td>conf/vldb/HoelS95</td>\n",
       "      <td>benchmarking spatial join operations with spatial output</td>\n",
       "      <td>erik g. hoel, hanan samet</td>\n",
       "      <td>vldb</td>\n",
       "      <td>1995</td>\n",
       "    </tr>\n",
       "  </tbody>\n",
       "</table>\n",
       "</div>"
      ],
      "text/plain": [
       "                         id  \\\n",
       "0  journals/sigmod/Mackay99   \n",
       "1      conf/vldb/PoosalaI96   \n",
       "2   conf/vldb/PalpanasSCP02   \n",
       "3    conf/vldb/GardarinGT96   \n",
       "4         conf/vldb/HoelS95   \n",
       "\n",
       "                                                                                                 title  \\\n",
       "0  semantic integration of environmental models for application to global information systems and d...   \n",
       "1          estimation of query-result distribution and its application in parallel-join load balancing   \n",
       "2                                     incremental maintenance for non-distributive aggregate functions   \n",
       "3           cost-based selection of path expression processing algorithms in object-oriented databases   \n",
       "4                                             benchmarking spatial join operations with spatial output   \n",
       "\n",
       "                                                                  authors  \\\n",
       "0                                                         d. scott mackay   \n",
       "1                                  viswanath poosala, yannis e. ioannidis   \n",
       "2  themistoklis palpanas, richard sidle, hamid pirahesh, roberta cochrane   \n",
       "3                     zhao-hui tang, georges gardarin, jean-robert gruser   \n",
       "4                                               erik g. hoel, hanan samet   \n",
       "\n",
       "           venue  year  \n",
       "0  sigmod record  1999  \n",
       "1           vldb  1996  \n",
       "2           vldb  2002  \n",
       "3           vldb  1996  \n",
       "4           vldb  1995  "
      ]
     },
     "execution_count": 5,
     "metadata": {},
     "output_type": "execute_result"
    }
   ],
   "source": [
    "A.head()"
   ]
  },
  {
   "cell_type": "code",
   "execution_count": 6,
   "metadata": {},
   "outputs": [
    {
     "data": {
      "text/html": [
       "<div>\n",
       "<style scoped>\n",
       "    .dataframe tbody tr th:only-of-type {\n",
       "        vertical-align: middle;\n",
       "    }\n",
       "\n",
       "    .dataframe tbody tr th {\n",
       "        vertical-align: top;\n",
       "    }\n",
       "\n",
       "    .dataframe thead th {\n",
       "        text-align: right;\n",
       "    }\n",
       "</style>\n",
       "<table border=\"1\" class=\"dataframe\">\n",
       "  <thead>\n",
       "    <tr style=\"text-align: right;\">\n",
       "      <th></th>\n",
       "      <th>id</th>\n",
       "      <th>title</th>\n",
       "      <th>authors</th>\n",
       "      <th>venue</th>\n",
       "      <th>year</th>\n",
       "    </tr>\n",
       "  </thead>\n",
       "  <tbody>\n",
       "    <tr>\n",
       "      <th>0</th>\n",
       "      <td>304586</td>\n",
       "      <td>the wasa2 object-oriented workflow management system</td>\n",
       "      <td>gottfried vossen, mathias weske</td>\n",
       "      <td>international conference on management of data</td>\n",
       "      <td>1999</td>\n",
       "    </tr>\n",
       "    <tr>\n",
       "      <th>1</th>\n",
       "      <td>304587</td>\n",
       "      <td>a user-centered interface for querying distributed multimedia databases</td>\n",
       "      <td>isabel f. cruz, kimberly m. james</td>\n",
       "      <td>international conference on management of data</td>\n",
       "      <td>1999</td>\n",
       "    </tr>\n",
       "    <tr>\n",
       "      <th>2</th>\n",
       "      <td>304589</td>\n",
       "      <td>world wide database-integrating the web, corba and databases</td>\n",
       "      <td>athman bouguettaya, boualem benatallah, lily hendra, james beard, kevin smith, mourad quzzani</td>\n",
       "      <td>international conference on management of data</td>\n",
       "      <td>1999</td>\n",
       "    </tr>\n",
       "    <tr>\n",
       "      <th>3</th>\n",
       "      <td>304590</td>\n",
       "      <td>xml-based information mediation with mix</td>\n",
       "      <td>chaitan baru, amarnath gupta, bertram lud&amp;#228;scher, richard marciano, yannis papakonstantinou,...</td>\n",
       "      <td>international conference on management of data</td>\n",
       "      <td>1999</td>\n",
       "    </tr>\n",
       "    <tr>\n",
       "      <th>4</th>\n",
       "      <td>304582</td>\n",
       "      <td>the ccube constraint object-oriented database system</td>\n",
       "      <td>alexander brodsky, victor e. segal, jia chen, paval a. exarkhopoulo</td>\n",
       "      <td>international conference on management of data</td>\n",
       "      <td>1999</td>\n",
       "    </tr>\n",
       "  </tbody>\n",
       "</table>\n",
       "</div>"
      ],
      "text/plain": [
       "       id  \\\n",
       "0  304586   \n",
       "1  304587   \n",
       "2  304589   \n",
       "3  304590   \n",
       "4  304582   \n",
       "\n",
       "                                                                     title  \\\n",
       "0                     the wasa2 object-oriented workflow management system   \n",
       "1  a user-centered interface for querying distributed multimedia databases   \n",
       "2             world wide database-integrating the web, corba and databases   \n",
       "3                                 xml-based information mediation with mix   \n",
       "4                     the ccube constraint object-oriented database system   \n",
       "\n",
       "                                                                                               authors  \\\n",
       "0                                                                      gottfried vossen, mathias weske   \n",
       "1                                                                    isabel f. cruz, kimberly m. james   \n",
       "2        athman bouguettaya, boualem benatallah, lily hendra, james beard, kevin smith, mourad quzzani   \n",
       "3  chaitan baru, amarnath gupta, bertram lud&#228;scher, richard marciano, yannis papakonstantinou,...   \n",
       "4                                  alexander brodsky, victor e. segal, jia chen, paval a. exarkhopoulo   \n",
       "\n",
       "                                            venue  year  \n",
       "0  international conference on management of data  1999  \n",
       "1  international conference on management of data  1999  \n",
       "2  international conference on management of data  1999  \n",
       "3  international conference on management of data  1999  \n",
       "4  international conference on management of data  1999  "
      ]
     },
     "execution_count": 6,
     "metadata": {},
     "output_type": "execute_result"
    }
   ],
   "source": [
    "B.head()"
   ]
  },
  {
   "cell_type": "code",
   "execution_count": 7,
   "metadata": {},
   "outputs": [
    {
     "name": "stderr",
     "output_type": "stream",
     "text": [
      "/Users/xuedi/anaconda3/envs/deepbrowse/lib/python3.6/site-packages/py_stringsimjoin/utils/converter.py:99: FutureWarning: The pandas.np module is deprecated and will be removed from pandas in a future version. Import numpy directly instead\n",
      "  if col_type == pd.np.object:\n",
      "/Users/xuedi/anaconda3/envs/deepbrowse/lib/python3.6/site-packages/py_entitymatching/blocker/overlap_blocker.py:258: SettingWithCopyWarning: \n",
      "A value is trying to be set on a copy of a slice from a DataFrame.\n",
      "Try using .loc[row_indexer,col_indexer] = value instead\n",
      "\n",
      "See the caveats in the documentation: https://pandas.pydata.org/pandas-docs/stable/user_guide/indexing.html#returning-a-view-versus-a-copy\n",
      "  l_df[l_dummy_overlap_attr] = l_df[l_overlap_attr]\n",
      "/Users/xuedi/anaconda3/envs/deepbrowse/lib/python3.6/site-packages/py_entitymatching/blocker/overlap_blocker.py:259: SettingWithCopyWarning: \n",
      "A value is trying to be set on a copy of a slice from a DataFrame.\n",
      "Try using .loc[row_indexer,col_indexer] = value instead\n",
      "\n",
      "See the caveats in the documentation: https://pandas.pydata.org/pandas-docs/stable/user_guide/indexing.html#returning-a-view-versus-a-copy\n",
      "  r_df[r_dummy_overlap_attr] = r_df[r_overlap_attr]\n",
      "/Users/xuedi/anaconda3/envs/deepbrowse/lib/python3.6/site-packages/py_entitymatching/blocker/overlap_blocker.py:615: SettingWithCopyWarning: \n",
      "A value is trying to be set on a copy of a slice from a DataFrame.\n",
      "Try using .loc[row_indexer,col_indexer] = value instead\n",
      "\n",
      "See the caveats in the documentation: https://pandas.pydata.org/pandas-docs/stable/user_guide/indexing.html#returning-a-view-versus-a-copy\n",
      "  table[overlap_attr] = values\n",
      "/Users/xuedi/anaconda3/envs/deepbrowse/lib/python3.6/site-packages/py_stringsimjoin/utils/validation.py:30: FutureWarning: The pandas.np module is deprecated and will be removed from pandas in a future version. Import numpy directly instead\n",
      "  if attr_type != pd.np.object:\n",
      "0% [##############################] 100% | ETA: 00:00:00\n",
      "Total time elapsed: 00:00:04\n"
     ]
    },
    {
     "name": "stdout",
     "output_type": "stream",
     "text": [
      "Finding pairs with missing value...\n",
      "1953933\n"
     ]
    },
    {
     "name": "stderr",
     "output_type": "stream",
     "text": [
      "0% [##############################] 100% | ETA: 00:00:00"
     ]
    },
    {
     "name": "stdout",
     "output_type": "stream",
     "text": [
      "200630\n"
     ]
    },
    {
     "name": "stderr",
     "output_type": "stream",
     "text": [
      "\n",
      "Total time elapsed: 00:00:07\n"
     ]
    }
   ],
   "source": [
    "# Blocking\n",
    "\n",
    "# Overlap blocking over input tables on title: the titles of mathched entities should have at least 3 same words\n",
    "ob=em.OverlapBlocker()\n",
    "C1=ob.block_tables(A,B,'title','title',word_level=True,overlap_size=1,allow_missing=True,\n",
    "                 l_output_attrs=['title','authors','venue','year'],\n",
    "                 r_output_attrs=['title','authors','venue','year'],\n",
    "                 show_progress=True)\n",
    "print(len(C1))\n",
    "\n",
    "# # Overlap blocking over input tables on authors: the authors of matched entities should have at least 1 same word\n",
    "# C2=ob.block_candset(C1,'authors','authors',word_level=True,overlap_size=1,allow_missing=True,show_progress=True)\n",
    "# print(len(C2))\n",
    "\n",
    "# Attribute equivalence blocking on year: the year of matched entities should be the same\n",
    "ab = em.AttrEquivalenceBlocker()\n",
    "C2=ab.block_candset(C1,l_block_attr='year',r_block_attr='year',show_progress=True)\n",
    "print(len(C2))"
   ]
  },
  {
   "cell_type": "code",
   "execution_count": 8,
   "metadata": {},
   "outputs": [
    {
     "data": {
      "text/plain": [
       "Index(['_id', 'ltable_id', 'rtable_id', 'ltable_title', 'ltable_authors',\n",
       "       'ltable_venue', 'ltable_year', 'rtable_title', 'rtable_authors',\n",
       "       'rtable_venue', 'rtable_year'],\n",
       "      dtype='object')"
      ]
     },
     "execution_count": 8,
     "metadata": {},
     "output_type": "execute_result"
    }
   ],
   "source": [
    "C2.columns"
   ]
  },
  {
   "cell_type": "code",
   "execution_count": 9,
   "metadata": {},
   "outputs": [
    {
     "data": {
      "text/plain": [
       "(2224, 2224)"
      ]
     },
     "execution_count": 9,
     "metadata": {},
     "output_type": "execute_result"
    }
   ],
   "source": [
    "dblp_match_dic={}\n",
    "acm_match_dic={}\n",
    "match=pd.read_csv('csv_files/DBLP-ACM_perfectMapping.csv')\n",
    "length=len(match)\n",
    "for i in range(length):\n",
    "    idDBLP=match['idDBLP'][i]\n",
    "    idACM=match['idACM'][i]\n",
    "    if idDBLP in dblp_match_dic:\n",
    "        dblp_match_dic[idDBLP].append(idACM)\n",
    "    else:\n",
    "        dblp_match_dic[idDBLP]=[idACM]\n",
    "    if idACM in acm_match_dic:\n",
    "        acm_match_dic[idACM].append(idDBLP)\n",
    "    else:\n",
    "        acm_match_dic[idACM]=[idDBLP]\n",
    "for idDBLP in dblp_match_dic:\n",
    "    if len(dblp_match_dic[idDBLP])>1:\n",
    "        print(idDBLP,dblp_match_dic[idDBLP])\n",
    "for idACM in acm_match_dic:\n",
    "    if len(acm_match_dic[idACM])>1:\n",
    "        print(idACM,acm_match_dic[idACM])\n",
    "\n",
    "len(dblp_match_dic),len(acm_match_dic)"
   ]
  },
  {
   "cell_type": "code",
   "execution_count": null,
   "metadata": {},
   "outputs": [],
   "source": []
  },
  {
   "cell_type": "code",
   "execution_count": 10,
   "metadata": {},
   "outputs": [],
   "source": [
    "import py_entitymatching as em\n",
    "\n",
    "\n",
    "def jac_qgm_3_qgm_3(seq1, seq2):\n",
    "    qgm1 = []\n",
    "    qgm2 = []\n",
    "    seq1 = '##' + seq1 + '$$'\n",
    "    seq2 = '##' + seq2 + '$$'\n",
    "    for i in range(len(seq1) - 2):\n",
    "        qgm1.append(seq1[i:i + 3])\n",
    "    for i in range(len(seq2) - 2):\n",
    "        qgm2.append(seq2[i:i + 3])\n",
    "    qgm1 = set(qgm1)\n",
    "    qgm2 = set(qgm2)\n",
    "    return len(qgm1 & qgm2) / len(qgm1 | qgm2)\n",
    "\n",
    "def cos_dlm_dc0_dlm_dc0(seq1, seq2):\n",
    "    set1=set(seq1.split(' '))\n",
    "    set2=set(seq2.split(' '))\n",
    "    return float(len(set1 & set2)) / (math.sqrt(float(len(set1))) * math.sqrt(float(len(set2))))\n",
    "\n",
    "def mel(seq1,seq2):\n",
    "    return em.monge_elkan(seq1,seq2)\n",
    "\n",
    "def lev_sim(seq1,seq2):\n",
    "    return em.lev_sim(seq1,seq2)\n",
    "    \n",
    "def exm(seq1,seq2):\n",
    "    return seq1 == seq2\n",
    "\n",
    "def anm(seq1,seq2):\n",
    "    return em.abs_norm(seq1,seq2)\n",
    "\n",
    "\n",
    "hhh_blocking=open('csv_files/hhh_blocking.csv','w')\n",
    "hhh_blocking.write('_id,idDBLP,idACM,title_title_jac_qgm_3_qgm_3,authors_authors_jac_qgm_3_qgm_3,venue_venue_jac_qgm_3_qgm_3,year_year_lev_sim,gold\\n')\n",
    "\n",
    "\n",
    "_id=0\n",
    "for index, row in C2.iterrows():\n",
    "    ltable_id=row['ltable_id']\n",
    "    rtable_id=row['rtable_id']\n",
    "    \n",
    "    ltable_title=row['ltable_title']\n",
    "    rtable_title=row['rtable_title']\n",
    "    title_title_jac_qgm_3_qgm_3=jac_qgm_3_qgm_3(ltable_title,rtable_title)\n",
    "    \n",
    "    ltable_authors=row['ltable_authors']\n",
    "    rtable_authors=row['rtable_authors']\n",
    "    if pd.isnull(ltable_authors):\n",
    "        ltable_authors=''\n",
    "    if pd.isnull(rtable_authors):\n",
    "        rtable_authors=''\n",
    "    authors_authors_jac_qgm_3_qgm_3=jac_qgm_3_qgm_3(ltable_authors,rtable_authors)\n",
    "    \n",
    "    ltable_venue=row['ltable_venue']\n",
    "    rtable_venue=row['rtable_venue']\n",
    "    if pd.isnull(ltable_venue):\n",
    "        ltable_venue=''\n",
    "    if pd.isnull(rtable_venue):\n",
    "        rtable_venue=''\n",
    "    venue_venue_jac_qgm_3_qgm_3=jac_qgm_3_qgm_3(ltable_venue,rtable_venue)\n",
    "    \n",
    "    ltable_year=row['ltable_year']\n",
    "    rtable_year=row['rtable_year']\n",
    "    if pd.isnull(ltable_year):\n",
    "        ltable_year=''\n",
    "    if pd.isnull(rtable_year):\n",
    "        rtable_year=''\n",
    "    year_year_lev_sim=lev_sim(ltable_year,rtable_year)\n",
    "    \n",
    "    \n",
    "    if ltable_id in dblp_match_dic:\n",
    "        if rtable_id in dblp_match_dic[ltable_id]:\n",
    "            gold=1\n",
    "        else:\n",
    "            gold=0\n",
    "    else:\n",
    "        gold=0\n",
    "    \n",
    "    hhh_blocking.write('{},{},{},{},{},{},{},{}\\n'.format(_id,ltable_id,rtable_id,title_title_jac_qgm_3_qgm_3,authors_authors_jac_qgm_3_qgm_3,venue_venue_jac_qgm_3_qgm_3,year_year_lev_sim,gold))\n",
    "    \n",
    "    _id+=1\n",
    "    \n",
    "    \n",
    "hhh_blocking.close()\n"
   ]
  },
  {
   "cell_type": "code",
   "execution_count": 13,
   "metadata": {},
   "outputs": [
    {
     "data": {
      "text/plain": [
       "0.03571428571428571"
      ]
     },
     "execution_count": 13,
     "metadata": {},
     "output_type": "execute_result"
    }
   ],
   "source": [
    "def jac_qgm_3_qgm_3(seq1, seq2):\n",
    "    qgm1 = []\n",
    "    qgm2 = []\n",
    "    seq1 = '##' + seq1 + '$$'\n",
    "    seq2 = '##' + seq2 + '$$'\n",
    "    for i in range(len(seq1) - 2):\n",
    "        qgm1.append(seq1[i:i + 3])\n",
    "    for i in range(len(seq2) - 2):\n",
    "        qgm2.append(seq2[i:i + 3])\n",
    "    qgm1 = set(qgm1)\n",
    "    qgm2 = set(qgm2)\n",
    "    return len(qgm1 & qgm2) / len(qgm1 | qgm2)\n",
    "jac_qgm_3_qgm_3('vldb','very large data bases')"
   ]
  },
  {
   "cell_type": "code",
   "execution_count": 2,
   "metadata": {},
   "outputs": [],
   "source": [
    "hhh=pd.read_csv('csv_files/hhh_blocking.csv')"
   ]
  },
  {
   "cell_type": "code",
   "execution_count": 3,
   "metadata": {},
   "outputs": [],
   "source": [
    "m_data=hhh[hhh.gold==1]\n",
    "u_data=hhh[hhh.gold==0]"
   ]
  },
  {
   "cell_type": "code",
   "execution_count": 7,
   "metadata": {},
   "outputs": [
    {
     "data": {
      "text/plain": [
       "array([1.])"
      ]
     },
     "execution_count": 7,
     "metadata": {},
     "output_type": "execute_result"
    }
   ],
   "source": [
    "import numpy as np\n",
    "np.unique(m_data['year_year_lev_sim'])"
   ]
  },
  {
   "cell_type": "code",
   "execution_count": 14,
   "metadata": {},
   "outputs": [
    {
     "data": {
      "text/html": [
       "<div>\n",
       "<style scoped>\n",
       "    .dataframe tbody tr th:only-of-type {\n",
       "        vertical-align: middle;\n",
       "    }\n",
       "\n",
       "    .dataframe tbody tr th {\n",
       "        vertical-align: top;\n",
       "    }\n",
       "\n",
       "    .dataframe thead th {\n",
       "        text-align: right;\n",
       "    }\n",
       "</style>\n",
       "<table border=\"1\" class=\"dataframe\">\n",
       "  <thead>\n",
       "    <tr style=\"text-align: right;\">\n",
       "      <th></th>\n",
       "      <th>_id</th>\n",
       "      <th>idDBLP</th>\n",
       "      <th>idACM</th>\n",
       "      <th>title_title_jac_qgm_3_qgm_3</th>\n",
       "      <th>authors_authors_jac_qgm_3_qgm_3</th>\n",
       "      <th>venue_venue_jac_qgm_3_qgm_3</th>\n",
       "      <th>year_year_lev_sim</th>\n",
       "      <th>gold</th>\n",
       "    </tr>\n",
       "  </thead>\n",
       "  <tbody>\n",
       "    <tr>\n",
       "      <th>50</th>\n",
       "      <td>50</td>\n",
       "      <td>conf/sigmod/VossenW99</td>\n",
       "      <td>304586</td>\n",
       "      <td>1.000000</td>\n",
       "      <td>0.609756</td>\n",
       "      <td>0.155172</td>\n",
       "      <td>1.0</td>\n",
       "      <td>1</td>\n",
       "    </tr>\n",
       "    <tr>\n",
       "      <th>112</th>\n",
       "      <td>112</td>\n",
       "      <td>conf/sigmod/CruzJ99</td>\n",
       "      <td>304587</td>\n",
       "      <td>1.000000</td>\n",
       "      <td>0.627907</td>\n",
       "      <td>0.155172</td>\n",
       "      <td>1.0</td>\n",
       "      <td>1</td>\n",
       "    </tr>\n",
       "    <tr>\n",
       "      <th>173</th>\n",
       "      <td>173</td>\n",
       "      <td>conf/sigmod/BouguettayaBH99</td>\n",
       "      <td>304589</td>\n",
       "      <td>0.793651</td>\n",
       "      <td>0.792079</td>\n",
       "      <td>0.155172</td>\n",
       "      <td>1.0</td>\n",
       "      <td>1</td>\n",
       "    </tr>\n",
       "    <tr>\n",
       "      <th>262</th>\n",
       "      <td>262</td>\n",
       "      <td>conf/sigmod/BaruGLMPVC99</td>\n",
       "      <td>304590</td>\n",
       "      <td>1.000000</td>\n",
       "      <td>0.750000</td>\n",
       "      <td>0.155172</td>\n",
       "      <td>1.0</td>\n",
       "      <td>1</td>\n",
       "    </tr>\n",
       "    <tr>\n",
       "      <th>311</th>\n",
       "      <td>311</td>\n",
       "      <td>conf/sigmod/BrodskySCE99</td>\n",
       "      <td>304582</td>\n",
       "      <td>1.000000</td>\n",
       "      <td>0.813333</td>\n",
       "      <td>0.155172</td>\n",
       "      <td>1.0</td>\n",
       "      <td>1</td>\n",
       "    </tr>\n",
       "  </tbody>\n",
       "</table>\n",
       "</div>"
      ],
      "text/plain": [
       "     _id                       idDBLP   idACM  title_title_jac_qgm_3_qgm_3  \\\n",
       "50    50        conf/sigmod/VossenW99  304586                     1.000000   \n",
       "112  112          conf/sigmod/CruzJ99  304587                     1.000000   \n",
       "173  173  conf/sigmod/BouguettayaBH99  304589                     0.793651   \n",
       "262  262     conf/sigmod/BaruGLMPVC99  304590                     1.000000   \n",
       "311  311     conf/sigmod/BrodskySCE99  304582                     1.000000   \n",
       "\n",
       "     authors_authors_jac_qgm_3_qgm_3  venue_venue_jac_qgm_3_qgm_3  \\\n",
       "50                          0.609756                     0.155172   \n",
       "112                         0.627907                     0.155172   \n",
       "173                         0.792079                     0.155172   \n",
       "262                         0.750000                     0.155172   \n",
       "311                         0.813333                     0.155172   \n",
       "\n",
       "     year_year_lev_sim  gold  \n",
       "50                 1.0     1  \n",
       "112                1.0     1  \n",
       "173                1.0     1  \n",
       "262                1.0     1  \n",
       "311                1.0     1  "
      ]
     },
     "execution_count": 14,
     "metadata": {},
     "output_type": "execute_result"
    }
   ],
   "source": [
    "m_data.head()"
   ]
  },
  {
   "cell_type": "code",
   "execution_count": 15,
   "metadata": {},
   "outputs": [
    {
     "name": "stdout",
     "output_type": "stream",
     "text": [
      "idDBLP:conf/sigmod/BouguettayaBH99, idACM:304589, title_title_jac_qgm_3_qgm_3:0.7936507936507936\n",
      "idDBLP:conf/sigmod/BonnetBCCCHKMMOSS99, idACM:304583, title_title_jac_qgm_3_qgm_3:0.75\n",
      "idDBLP:conf/sigmod/Ojjeh99, idACM:304245, title_title_jac_qgm_3_qgm_3:0.3908045977011495\n",
      "idDBLP:journals/sigmod/Dogac02, idACM:507340, title_title_jac_qgm_3_qgm_3:0.3648648648648649\n",
      "idDBLP:journals/sigmod/Winslett02b, idACM:601871, title_title_jac_qgm_3_qgm_3:0.2262773722627737\n",
      "idDBLP:journals/sigmod/Labrinidis01, idACM:604283, title_title_jac_qgm_3_qgm_3:0.2222222222222222\n",
      "idDBLP:journals/sigmod/Winslett03, idACM:640999, title_title_jac_qgm_3_qgm_3:0.15\n",
      "min_title_sim:0.15\n",
      "\n",
      "{0.15517241379310345: [('sigmod conference', 'international conference on management of data')], 0.6190476190476191: [('sigmod record', 'acm sigmod record')], 0.4117647058823529: [('acm trans. database syst.', 'acm transactions on database systems (tods)')], 0.057142857142857134: [('vldb j.', 'the vldb journal &mdash; the international journal on very large data bases')], 0.03571428571428571: [('vldb', 'very large data bases')]}\n",
      "min_venue_sim:0.03571428571428571\n",
      "\n",
      "{1.0: [(1999, 1999), (1998, 1998), (2000, 2000), (1995, 1995), (1997, 1997), (1996, 1996), (2001, 2001), (2002, 2002), (1994, 1994), (2003, 2003)]}\n",
      "min_year_sim:1\n",
      "\n"
     ]
    }
   ],
   "source": [
    "# Explore m_data\n",
    "\n",
    "# Output the matched paires whose title similarity is not 1\n",
    "min_title_sim=1\n",
    "for index, row in m_data.iterrows():\n",
    "    if row['title_title_jac_qgm_3_qgm_3']<1:\n",
    "        if row['title_title_jac_qgm_3_qgm_3']<min_title_sim:\n",
    "            min_title_sim=row['title_title_jac_qgm_3_qgm_3']\n",
    "            print('idDBLP:{}, idACM:{}, title_title_jac_qgm_3_qgm_3:{}'.format(row['idDBLP'], row['idACM'], row['title_title_jac_qgm_3_qgm_3']))\n",
    "print('min_title_sim:{}\\n'.format(min_title_sim))\n",
    "\n",
    "# Output the distinct venue sim value of matched pairs\n",
    "min_venue_sim=1\n",
    "venueSim_to_venueValue={}\n",
    "for index, row in m_data.iterrows():\n",
    "    venueSim=row['venue_venue_jac_qgm_3_qgm_3']\n",
    "    venueValue=((A.iloc[DBLP2_id_to_index[row['idDBLP']]])['venue'],(B.iloc[ACM_id_to_index[row['idACM']]])['venue'])\n",
    "    if venueSim not in venueSim_to_venueValue:\n",
    "        venueSim_to_venueValue[venueSim]=[venueValue]\n",
    "        if venueSim<min_venue_sim:\n",
    "            min_venue_sim=venueSim\n",
    "    else:\n",
    "        if venueValue not in venueSim_to_venueValue[venueSim]:\n",
    "            venueSim_to_venueValue[venueSim].append(venueValue)\n",
    "print(venueSim_to_venueValue)\n",
    "print('min_venue_sim:{}\\n'.format(min_venue_sim))\n",
    "\n",
    "# Output the distinct year value of matched pairs\n",
    "min_year_sim=1\n",
    "yearSim_to_yearValue={}\n",
    "for index, row in m_data.iterrows():\n",
    "    yearSim=row['year_year_lev_sim']\n",
    "    yearValue=((A.iloc[DBLP2_id_to_index[row['idDBLP']]])['year'],(B.iloc[ACM_id_to_index[row['idACM']]])['year'])\n",
    "    if yearSim not in yearSim_to_yearValue:\n",
    "        yearSim_to_yearValue[yearSim]=[yearValue]\n",
    "        if yearSim<min_year_sim:\n",
    "            min_year_sim=yearSim\n",
    "    else:\n",
    "        if yearValue not in yearSim_to_yearValue[yearSim]:\n",
    "            yearSim_to_yearValue[yearSim].append(yearValue)\n",
    "print(yearSim_to_yearValue)\n",
    "print('min_year_sim:{}\\n'.format(min_year_sim))\n"
   ]
  },
  {
   "cell_type": "code",
   "execution_count": 16,
   "metadata": {},
   "outputs": [
    {
     "data": {
      "text/html": [
       "<div>\n",
       "<style scoped>\n",
       "    .dataframe tbody tr th:only-of-type {\n",
       "        vertical-align: middle;\n",
       "    }\n",
       "\n",
       "    .dataframe tbody tr th {\n",
       "        vertical-align: top;\n",
       "    }\n",
       "\n",
       "    .dataframe thead th {\n",
       "        text-align: right;\n",
       "    }\n",
       "</style>\n",
       "<table border=\"1\" class=\"dataframe\">\n",
       "  <thead>\n",
       "    <tr style=\"text-align: right;\">\n",
       "      <th></th>\n",
       "      <th>_id</th>\n",
       "      <th>idDBLP</th>\n",
       "      <th>idACM</th>\n",
       "      <th>title_title_jac_qgm_3_qgm_3</th>\n",
       "      <th>authors_authors_jac_qgm_3_qgm_3</th>\n",
       "      <th>venue_venue_jac_qgm_3_qgm_3</th>\n",
       "      <th>year_year_lev_sim</th>\n",
       "      <th>gold</th>\n",
       "    </tr>\n",
       "  </thead>\n",
       "  <tbody>\n",
       "    <tr>\n",
       "      <th>0</th>\n",
       "      <td>0</td>\n",
       "      <td>conf/sigmod/BraumandlKK99</td>\n",
       "      <td>304586</td>\n",
       "      <td>0.059524</td>\n",
       "      <td>0.012048</td>\n",
       "      <td>0.155172</td>\n",
       "      <td>1.0</td>\n",
       "      <td>0</td>\n",
       "    </tr>\n",
       "    <tr>\n",
       "      <th>1</th>\n",
       "      <td>1</td>\n",
       "      <td>conf/vldb/Graefe99</td>\n",
       "      <td>304586</td>\n",
       "      <td>0.041237</td>\n",
       "      <td>0.068182</td>\n",
       "      <td>0.000000</td>\n",
       "      <td>1.0</td>\n",
       "      <td>0</td>\n",
       "    </tr>\n",
       "    <tr>\n",
       "      <th>2</th>\n",
       "      <td>2</td>\n",
       "      <td>journals/vldb/HarderST99</td>\n",
       "      <td>304586</td>\n",
       "      <td>0.030303</td>\n",
       "      <td>0.000000</td>\n",
       "      <td>0.000000</td>\n",
       "      <td>1.0</td>\n",
       "      <td>0</td>\n",
       "    </tr>\n",
       "    <tr>\n",
       "      <th>3</th>\n",
       "      <td>3</td>\n",
       "      <td>conf/sigmod/IvesFFLW99</td>\n",
       "      <td>304586</td>\n",
       "      <td>0.058824</td>\n",
       "      <td>0.068627</td>\n",
       "      <td>0.155172</td>\n",
       "      <td>1.0</td>\n",
       "      <td>0</td>\n",
       "    </tr>\n",
       "    <tr>\n",
       "      <th>4</th>\n",
       "      <td>4</td>\n",
       "      <td>journals/sigmod/EisenbergM99a</td>\n",
       "      <td>304586</td>\n",
       "      <td>0.027273</td>\n",
       "      <td>0.016129</td>\n",
       "      <td>0.000000</td>\n",
       "      <td>1.0</td>\n",
       "      <td>0</td>\n",
       "    </tr>\n",
       "  </tbody>\n",
       "</table>\n",
       "</div>"
      ],
      "text/plain": [
       "   _id                         idDBLP   idACM  title_title_jac_qgm_3_qgm_3  \\\n",
       "0    0      conf/sigmod/BraumandlKK99  304586                     0.059524   \n",
       "1    1             conf/vldb/Graefe99  304586                     0.041237   \n",
       "2    2       journals/vldb/HarderST99  304586                     0.030303   \n",
       "3    3         conf/sigmod/IvesFFLW99  304586                     0.058824   \n",
       "4    4  journals/sigmod/EisenbergM99a  304586                     0.027273   \n",
       "\n",
       "   authors_authors_jac_qgm_3_qgm_3  venue_venue_jac_qgm_3_qgm_3  \\\n",
       "0                         0.012048                     0.155172   \n",
       "1                         0.068182                     0.000000   \n",
       "2                         0.000000                     0.000000   \n",
       "3                         0.068627                     0.155172   \n",
       "4                         0.016129                     0.000000   \n",
       "\n",
       "   year_year_lev_sim  gold  \n",
       "0                1.0     0  \n",
       "1                1.0     0  \n",
       "2                1.0     0  \n",
       "3                1.0     0  \n",
       "4                1.0     0  "
      ]
     },
     "execution_count": 16,
     "metadata": {},
     "output_type": "execute_result"
    }
   ],
   "source": [
    "u_data.head()"
   ]
  },
  {
   "cell_type": "code",
   "execution_count": 18,
   "metadata": {},
   "outputs": [
    {
     "name": "stdout",
     "output_type": "stream",
     "text": [
      "idDBLP:conf/sigmod/BraumandlKK99, idACM:304586, title_title_jac_qgm_3_qgm_3:0.05952380952380953\n",
      "idDBLP:journals/sigmod/PapianiWDN99, idACM:304586, title_title_jac_qgm_3_qgm_3:0.060869565217391314\n",
      "idDBLP:conf/vldb/Norvag99, idACM:304586, title_title_jac_qgm_3_qgm_3:0.22123893805309736\n",
      "idDBLP:journals/tods/CasatiCPP99, idACM:304586, title_title_jac_qgm_3_qgm_3:0.2551020408163265\n",
      "idDBLP:conf/sigmod/BrodskySCE99, idACM:304586, title_title_jac_qgm_3_qgm_3:0.34177215189873417\n",
      "idDBLP:conf/sigmod/AcharyaGPR99a, idACM:304581, title_title_jac_qgm_3_qgm_3:0.4153846153846154\n",
      "idDBLP:journals/sigmod/LiefkeS00, idACM:335405, title_title_jac_qgm_3_qgm_3:0.43859649122807015\n",
      "idDBLP:conf/sigmod/Ellison95, idACM:277955, title_title_jac_qgm_3_qgm_3:1.0\n",
      "max_title_sim:1.0\n",
      "\n",
      "idDBLP:conf/sigmod/BraumandlKK99, idACM:304586, authors_authors_jac_qgm_3_qgm_3:0.012048192771084338\n",
      "idDBLP:conf/vldb/Graefe99, idACM:304586, authors_authors_jac_qgm_3_qgm_3:0.06818181818181818\n",
      "idDBLP:conf/sigmod/IvesFFLW99, idACM:304586, authors_authors_jac_qgm_3_qgm_3:0.06862745098039216\n",
      "idDBLP:conf/sigmod/Jamil99, idACM:304587, authors_authors_jac_qgm_3_qgm_3:0.10869565217391304\n",
      "idDBLP:conf/vldb/KeimH99, idACM:304582, authors_authors_jac_qgm_3_qgm_3:0.11702127659574467\n",
      "idDBLP:conf/sigmod/HinneburgK99, idACM:304582, authors_authors_jac_qgm_3_qgm_3:0.14130434782608695\n",
      "idDBLP:conf/vldb/IoannidisP99, idACM:304584, authors_authors_jac_qgm_3_qgm_3:0.15714285714285714\n",
      "idDBLP:conf/sigmod/ZhouLP99, idACM:304570, authors_authors_jac_qgm_3_qgm_3:0.3389830508474576\n",
      "idDBLP:journals/sigmod/RamDD99, idACM:304250, authors_authors_jac_qgm_3_qgm_3:0.7894736842105263\n",
      "idDBLP:conf/sigmod/AcharyaGPR99a, idACM:304581, authors_authors_jac_qgm_3_qgm_3:1.0\n",
      "max_authors_sim:1.0\n",
      "\n",
      "idDBLP:conf/sigmod/BraumandlKK99, idACM:304586, venue_venue_jac_qgm_3_qgm_3:0.15517241379310345\n",
      "idDBLP:journals/sigmod/ChristoffelPSL98, idACM:306112, venue_venue_jac_qgm_3_qgm_3:0.6190476190476191\n",
      "max_venue_sim:0.6190476190476191\n",
      "\n",
      "idDBLP:journals/sigmod/Aberer02, idACM:601865\n",
      "idDBLP:journals/sigmod/Aberer02a, idACM:601865\n",
      "idDBLP:journals/sigmod/Aberer02c, idACM:601865\n",
      "idDBLP:journals/sigmod/Aberer02b, idACM:507353\n",
      "idDBLP:journals/sigmod/Aberer02a, idACM:507353\n",
      "idDBLP:journals/sigmod/Aberer02c, idACM:507353\n",
      "idDBLP:journals/sigmod/Aberer02, idACM:565129\n",
      "idDBLP:journals/sigmod/Aberer02b, idACM:565129\n",
      "idDBLP:journals/sigmod/Aberer02c, idACM:565129\n",
      "idDBLP:conf/sigmod/ShashaB02a, idACM:564799\n",
      "idDBLP:conf/sigmod/ShashaB02, idACM:564798\n",
      "idDBLP:journals/sigmod/Aberer02, idACM:637424\n",
      "idDBLP:journals/sigmod/Aberer02b, idACM:637424\n",
      "idDBLP:journals/sigmod/Aberer02a, idACM:637424\n",
      "idDBLP:conf/vldb/Bhashyam96, idACM:245908\n",
      "idDBLP:journals/sigmod/GottlobKP03, idACM:776988\n",
      "idDBLP:journals/sigmod/Aberer03d, idACM:776994\n",
      "idDBLP:journals/sigmod/Aberer03b, idACM:959078\n"
     ]
    }
   ],
   "source": [
    "# Explore u_data\n",
    "\n",
    "# Output the max title sim value of unmatched pairs\n",
    "max_title_sim=0\n",
    "for index, row in u_data.iterrows():\n",
    "    if row['title_title_jac_qgm_3_qgm_3']>max_title_sim:\n",
    "        max_title_sim=row['title_title_jac_qgm_3_qgm_3']\n",
    "        print('idDBLP:{}, idACM:{}, title_title_jac_qgm_3_qgm_3:{}'.format(row['idDBLP'], row['idACM'], row['title_title_jac_qgm_3_qgm_3']))\n",
    "print('max_title_sim:{}\\n'.format(max_title_sim))\n",
    "\n",
    "# Output the max authors sim value of unmatched pairs\n",
    "max_authors_sim=0\n",
    "for index, row in u_data.iterrows():\n",
    "    if row['authors_authors_jac_qgm_3_qgm_3']>max_authors_sim:\n",
    "        max_authors_sim=row['authors_authors_jac_qgm_3_qgm_3']\n",
    "        print('idDBLP:{}, idACM:{}, authors_authors_jac_qgm_3_qgm_3:{}'.format(row['idDBLP'], row['idACM'], row['authors_authors_jac_qgm_3_qgm_3']))\n",
    "print('max_authors_sim:{}\\n'.format(max_authors_sim))\n",
    "\n",
    "# Output the max venue sim value of unmatched pairs\n",
    "max_venue_sim=0\n",
    "for index, row in u_data.iterrows():\n",
    "    if row['venue_venue_jac_qgm_3_qgm_3']>max_venue_sim:\n",
    "        max_venue_sim=row['venue_venue_jac_qgm_3_qgm_3']\n",
    "        print('idDBLP:{}, idACM:{}, venue_venue_jac_qgm_3_qgm_3:{}'.format(row['idDBLP'], row['idACM'], row['venue_venue_jac_qgm_3_qgm_3']))\n",
    "print('max_venue_sim:{}\\n'.format(max_venue_sim))\n",
    "\n",
    "for index, row in u_data.iterrows():\n",
    "    if row['title_title_jac_qgm_3_qgm_3']>0.8 and \\\n",
    "        row['authors_authors_jac_qgm_3_qgm_3']==1:\n",
    "        print('idDBLP:{}, idACM:{}'.format(row['idDBLP'], row['idACM']))"
   ]
  },
  {
   "cell_type": "code",
   "execution_count": null,
   "metadata": {},
   "outputs": [],
   "source": []
  },
  {
   "cell_type": "code",
   "execution_count": null,
   "metadata": {},
   "outputs": [],
   "source": []
  },
  {
   "cell_type": "code",
   "execution_count": 46,
   "metadata": {},
   "outputs": [],
   "source": [
    "# clean golden_records_manually.csv\n",
    "\n",
    "import pandas as pd\n",
    "\n",
    "golden_records_manually=pd.read_csv('csv_files/golden_records_manually.csv')\n",
    "golden_records_cleaned=open('csv_files/golden_records_cleaned.csv','w')\n",
    "golden_records_cleaned.write('cluster_id,Title,Authors,Venue,Year,Citations,Source\\n')\n",
    "\n",
    "for index, row in golden_records_manually.iterrows():\n",
    "    cluster_id=row['cluster_id']\n",
    "    title=row['Title']\n",
    "    authors=row['Authors']\n",
    "    venue=row['Venue']\n",
    "    year=row['Year']\n",
    "    citations=row['Citations']\n",
    "    source=row['Source']\n",
    "    authors=authors.replace(',',', ')\n",
    "    authors=authors.replace(',   ',', ')\n",
    "    authors=authors.replace(',  ',', ')\n",
    "    authors=authors.lower()\n",
    "    golden_records_cleaned.write('{},\"{}\",\"{}\",{},{},{},{}\\n'.format(cluster_id,title,authors,venue,year,citations,source))\n",
    "    \n",
    "golden_records_cleaned.close()    "
   ]
  },
  {
   "cell_type": "code",
   "execution_count": null,
   "metadata": {},
   "outputs": [],
   "source": []
  },
  {
   "cell_type": "code",
   "execution_count": 9,
   "metadata": {},
   "outputs": [
    {
     "name": "stdout",
     "output_type": "stream",
     "text": [
      "['acm trans. database syst.', 'sigmod conference', 'sigmod record', 'vldb', 'vldb j.']\n",
      "['acm sigmod record', 'acm transactions on database systems (tods)', 'international conference on management of data', 'the vldb journal &mdash; the international journal on very large data bases', 'very large data bases']\n"
     ]
    }
   ],
   "source": [
    "import pandas as pd\n",
    "import numpy as np\n",
    "\n",
    "dblp=pd.read_csv('csv_files/DBLP2_lower.csv')\n",
    "acm=pd.read_csv('csv_files/ACM_lower.csv')\n",
    "print(list(np.unique(dblp['venue'])))\n",
    "print(list(np.unique(acm['venue'])))"
   ]
  },
  {
   "cell_type": "code",
   "execution_count": null,
   "metadata": {},
   "outputs": [],
   "source": []
  },
  {
   "cell_type": "code",
   "execution_count": null,
   "metadata": {},
   "outputs": [],
   "source": []
  },
  {
   "cell_type": "code",
   "execution_count": null,
   "metadata": {},
   "outputs": [],
   "source": []
  },
  {
   "cell_type": "code",
   "execution_count": null,
   "metadata": {},
   "outputs": [],
   "source": []
  },
  {
   "cell_type": "code",
   "execution_count": null,
   "metadata": {},
   "outputs": [],
   "source": []
  },
  {
   "cell_type": "code",
   "execution_count": null,
   "metadata": {},
   "outputs": [],
   "source": []
  }
 ],
 "metadata": {
  "kernelspec": {
   "display_name": "deepbrowse",
   "language": "python",
   "name": "deepbrowse"
  },
  "language_info": {
   "codemirror_mode": {
    "name": "ipython",
    "version": 3
   },
   "file_extension": ".py",
   "mimetype": "text/x-python",
   "name": "python",
   "nbconvert_exporter": "python",
   "pygments_lexer": "ipython3",
   "version": "3.6.8"
  }
 },
 "nbformat": 4,
 "nbformat_minor": 2
}

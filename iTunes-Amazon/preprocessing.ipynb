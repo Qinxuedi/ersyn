{
 "cells": [
  {
   "cell_type": "code",
   "execution_count": 1,
   "metadata": {},
   "outputs": [],
   "source": [
    "import pandas as pd\n",
    "import numpy as np"
   ]
  },
  {
   "cell_type": "code",
   "execution_count": 2,
   "metadata": {},
   "outputs": [],
   "source": [
    "A=pd.read_csv('csv_files/tableA.csv')\n",
    "B=pd.read_csv('csv_files/tableB.csv')\n",
    "A.fillna('',inplace=True)\n",
    "B.fillna('',inplace=True)\n",
    "test=pd.read_csv('csv_files/test.csv')\n",
    "train=pd.read_csv('csv_files/train.csv')"
   ]
  },
  {
   "cell_type": "code",
   "execution_count": 3,
   "metadata": {},
   "outputs": [
    {
     "data": {
      "text/html": [
       "<div>\n",
       "<style scoped>\n",
       "    .dataframe tbody tr th:only-of-type {\n",
       "        vertical-align: middle;\n",
       "    }\n",
       "\n",
       "    .dataframe tbody tr th {\n",
       "        vertical-align: top;\n",
       "    }\n",
       "\n",
       "    .dataframe thead th {\n",
       "        text-align: right;\n",
       "    }\n",
       "</style>\n",
       "<table border=\"1\" class=\"dataframe\">\n",
       "  <thead>\n",
       "    <tr style=\"text-align: right;\">\n",
       "      <th></th>\n",
       "      <th>id</th>\n",
       "      <th>Song_Name</th>\n",
       "      <th>Artist_Name</th>\n",
       "      <th>Album_Name</th>\n",
       "      <th>Genre</th>\n",
       "      <th>Price</th>\n",
       "      <th>CopyRight</th>\n",
       "      <th>Time</th>\n",
       "      <th>Released</th>\n",
       "    </tr>\n",
       "  </thead>\n",
       "  <tbody>\n",
       "    <tr>\n",
       "      <th>0</th>\n",
       "      <td>0</td>\n",
       "      <td>Runaway Train</td>\n",
       "      <td>Cam</td>\n",
       "      <td>Welcome to Cam Country - EP</td>\n",
       "      <td>Country , Music , Contemporary Country , Honky...</td>\n",
       "      <td>$ 0.99</td>\n",
       "      <td>2015 Sony Music Entertainment</td>\n",
       "      <td>3:01</td>\n",
       "      <td>31-Mar-15</td>\n",
       "    </tr>\n",
       "    <tr>\n",
       "      <th>1</th>\n",
       "      <td>1</td>\n",
       "      <td>Track 14</td>\n",
       "      <td>Omi</td>\n",
       "      <td>Me 4 U</td>\n",
       "      <td>Pop/Rock , Music , Pop , Dance , R&amp;B / Soul</td>\n",
       "      <td>Album Only</td>\n",
       "      <td>2015 Ultra Records , LLC under exclusive licen...</td>\n",
       "      <td>3:41</td>\n",
       "      <td></td>\n",
       "    </tr>\n",
       "    <tr>\n",
       "      <th>2</th>\n",
       "      <td>2</td>\n",
       "      <td>Lips Are Movin</td>\n",
       "      <td>Meghan Trainor</td>\n",
       "      <td>Title</td>\n",
       "      <td>Pop , Music , Pop/Rock , Dance , Rock , Teen Pop</td>\n",
       "      <td>$ 1.29</td>\n",
       "      <td>2014 , 2015 Epic Records , a division of Sony ...</td>\n",
       "      <td>3:01</td>\n",
       "      <td>9-Jan-15</td>\n",
       "    </tr>\n",
       "    <tr>\n",
       "      <th>3</th>\n",
       "      <td>3</td>\n",
       "      <td>I Want a Hippopotamus for Christmas</td>\n",
       "      <td>A Great Big World</td>\n",
       "      <td>I 'll Be Home For Christmas</td>\n",
       "      <td>Holiday , Music</td>\n",
       "      <td>$ 1.29</td>\n",
       "      <td>Compilation ( P ) 2014 Epic Records , a divisi...</td>\n",
       "      <td>2:20</td>\n",
       "      <td>24-Nov-14</td>\n",
       "    </tr>\n",
       "    <tr>\n",
       "      <th>4</th>\n",
       "      <td>4</td>\n",
       "      <td>Credit</td>\n",
       "      <td>Meghan Trainor</td>\n",
       "      <td>Title ( Deluxe )</td>\n",
       "      <td>Pop , Music , Rock , Pop/Rock , Dance , Teen Pop</td>\n",
       "      <td>$ 1.29</td>\n",
       "      <td>2014 , 2015 Epic Records , a division of Sony ...</td>\n",
       "      <td>2:51</td>\n",
       "      <td>9-Jan-15</td>\n",
       "    </tr>\n",
       "  </tbody>\n",
       "</table>\n",
       "</div>"
      ],
      "text/plain": [
       "   id                            Song_Name        Artist_Name  \\\n",
       "0   0                        Runaway Train                Cam   \n",
       "1   1                             Track 14                Omi   \n",
       "2   2                       Lips Are Movin     Meghan Trainor   \n",
       "3   3  I Want a Hippopotamus for Christmas  A Great Big World   \n",
       "4   4                               Credit     Meghan Trainor   \n",
       "\n",
       "                    Album_Name  \\\n",
       "0  Welcome to Cam Country - EP   \n",
       "1                       Me 4 U   \n",
       "2                        Title   \n",
       "3  I 'll Be Home For Christmas   \n",
       "4             Title ( Deluxe )   \n",
       "\n",
       "                                               Genre       Price  \\\n",
       "0  Country , Music , Contemporary Country , Honky...      $ 0.99   \n",
       "1        Pop/Rock , Music , Pop , Dance , R&B / Soul  Album Only   \n",
       "2   Pop , Music , Pop/Rock , Dance , Rock , Teen Pop      $ 1.29   \n",
       "3                                    Holiday , Music      $ 1.29   \n",
       "4   Pop , Music , Rock , Pop/Rock , Dance , Teen Pop      $ 1.29   \n",
       "\n",
       "                                           CopyRight  Time   Released  \n",
       "0                      2015 Sony Music Entertainment  3:01  31-Mar-15  \n",
       "1  2015 Ultra Records , LLC under exclusive licen...  3:41             \n",
       "2  2014 , 2015 Epic Records , a division of Sony ...  3:01   9-Jan-15  \n",
       "3  Compilation ( P ) 2014 Epic Records , a divisi...  2:20  24-Nov-14  \n",
       "4  2014 , 2015 Epic Records , a division of Sony ...  2:51   9-Jan-15  "
      ]
     },
     "execution_count": 3,
     "metadata": {},
     "output_type": "execute_result"
    }
   ],
   "source": [
    "A.head()"
   ]
  },
  {
   "cell_type": "code",
   "execution_count": 5,
   "metadata": {},
   "outputs": [
    {
     "data": {
      "text/plain": [
       "['Mar',\n",
       " 'Jan',\n",
       " 'Nov',\n",
       " 'Apr',\n",
       " 'Feb',\n",
       " 'Jul',\n",
       " 'Oct',\n",
       " 'Dec',\n",
       " 'May',\n",
       " 'Aug',\n",
       " 'Jun',\n",
       " 'Sep']"
      ]
     },
     "execution_count": 5,
     "metadata": {},
     "output_type": "execute_result"
    }
   ],
   "source": [
    "released_A=np.array(np.array(A['Released']))\n",
    "unique_month_A=[]\n",
    "for released in released_A:\n",
    "    if released:\n",
    "        split_released=released.split('-')\n",
    "        if len(split_released)==3:\n",
    "            if split_released[1] not in unique_month_A:\n",
    "                unique_month_A.append(split_released[1])\n",
    "        else:\n",
    "            pass\n",
    "#             print(released)\n",
    "unique_month_A"
   ]
  },
  {
   "cell_type": "code",
   "execution_count": 6,
   "metadata": {},
   "outputs": [],
   "source": [
    "month_str_to_num_A={\n",
    "    'Mar':3,'Jan':1,'Nov':11,'Apr':4,\n",
    "    'Feb':2,'Jul':7,'Oct':10,'Dec':12,\n",
    "    'May':5,'Aug':8,'Jun':6,'Sep':9\n",
    "}"
   ]
  },
  {
   "cell_type": "code",
   "execution_count": 7,
   "metadata": {},
   "outputs": [
    {
     "name": "stdout",
     "output_type": "stream",
     "text": [
      "Wozzeck\n",
      "Alte Frau\n"
     ]
    },
    {
     "data": {
      "text/plain": [
       "['September',\n",
       " 'November',\n",
       " 'July',\n",
       " 'February',\n",
       " 'December',\n",
       " 'April',\n",
       " 'October',\n",
       " 'August',\n",
       " 'March',\n",
       " 'June',\n",
       " 'January',\n",
       " 'May']"
      ]
     },
     "execution_count": 7,
     "metadata": {},
     "output_type": "execute_result"
    }
   ],
   "source": [
    "released_B=np.array(np.array(B['Released']))\n",
    "unique_month_B=[]\n",
    "for released in released_B:\n",
    "    released=released.replace(',',' ')\n",
    "    if released:\n",
    "        split_released=released.split()\n",
    "        if len(split_released)==3:\n",
    "            if split_released[0] not in unique_month_B:\n",
    "                unique_month_B.append(split_released[0])\n",
    "        else:\n",
    "            print(released)\n",
    "unique_month_B"
   ]
  },
  {
   "cell_type": "code",
   "execution_count": 8,
   "metadata": {},
   "outputs": [],
   "source": [
    "month_str_to_num_B={\n",
    "    'September':9,'November':11,'July':7,'February':2,\n",
    "    'December':12,'April':4,'October':10,'August':8,\n",
    "    'March':3,'June':6,'January':1,'May':5\n",
    "}"
   ]
  },
  {
   "cell_type": "code",
   "execution_count": 9,
   "metadata": {},
   "outputs": [],
   "source": [
    "def jac_qgm_3_qgm_3(seq1, seq2):\n",
    "    seq1=seq1.lower()\n",
    "    seq2=seq2.lower()\n",
    "    qgm1 = []\n",
    "    qgm2 = []\n",
    "    seq1 = '##' + seq1 + '$$'\n",
    "    seq2 = '##' + seq2 + '$$'\n",
    "    for i in range(len(seq1) - 2):\n",
    "        qgm1.append(seq1[i:i + 3])\n",
    "    for i in range(len(seq2) - 2):\n",
    "        qgm2.append(seq2[i:i + 3])\n",
    "    qgm1 = set(qgm1)\n",
    "    qgm2 = set(qgm2)\n",
    "    return len(qgm1 & qgm2) / len(qgm1 | qgm2)\n",
    "\n",
    "def price_delta(price_a,price_b):\n",
    "    if price_a=='' or '$ ' not in price_a:\n",
    "        price_a=0\n",
    "    else:\n",
    "        price_a=float(price_a[2:])\n",
    "    if price_b=='' or '$ ' not in price_b:\n",
    "        price_b=0\n",
    "    else:\n",
    "        price_b=float(price_b[2:])\n",
    "    return abs(price_a-price_b)\n",
    "    \n",
    "import datetime\n",
    "def released_delta(released_a,released_b):\n",
    "    if released_a=='':\n",
    "        released_a=datetime.date(2022,2,19)  # the date that i write this code\n",
    "    else:\n",
    "        split_released=released_a.split('-')\n",
    "        if len(split_released)==3:\n",
    "            year=2000+int(split_released[2])\n",
    "            month=month_str_to_num_A[split_released[1]]\n",
    "            day=int(split_released[0])\n",
    "            released_a=datetime.date(year,month,day)\n",
    "        else:\n",
    "            released_a=datetime.date(int(released_a),1,1)\n",
    "    \n",
    "    if released_b=='':\n",
    "        released_b=datetime.date(2022,2,19)\n",
    "    else:\n",
    "        released_b=released_b.replace(',',' ')\n",
    "        split_released=released_b.split()\n",
    "        if len(split_released)==3:\n",
    "            year=int(split_released[2])\n",
    "            month=month_str_to_num_B[split_released[0]]\n",
    "            day=int(split_released[1])\n",
    "            released_b=datetime.date(year,month,day)\n",
    "        else:\n",
    "            released_b=datetime.date(2022,2,19)\n",
    "    \n",
    "    return abs((released_a-released_b).days)"
   ]
  },
  {
   "cell_type": "code",
   "execution_count": 19,
   "metadata": {},
   "outputs": [
    {
     "data": {
      "text/plain": [
       "0.1111111111111111"
      ]
     },
     "execution_count": 19,
     "metadata": {},
     "output_type": "execute_result"
    }
   ],
   "source": [
    "seq1=\"I'll Be Home For The Holiday\"\n",
    "seq2=\"I'll Think Of You When Raining\"\n",
    "jac_qgm_3_qgm_3(seq1,seq2)"
   ]
  },
  {
   "cell_type": "code",
   "execution_count": 10,
   "metadata": {},
   "outputs": [],
   "source": [
    "train_data=open('csv_files/train_data.csv','w')\n",
    "train_data.write('_id,idA,idB,Song_Name_jac,Artist_Name_jac,Album_Name_jac,Genre_jac,Price_delta,CopyRight_jac,Released_delta,label\\n')\n",
    "train_data.close()"
   ]
  },
  {
   "cell_type": "code",
   "execution_count": 12,
   "metadata": {},
   "outputs": [
    {
     "name": "stdout",
     "output_type": "stream",
     "text": [
      "Silver and Gold ~~~ Silver And Gold 1.0\n",
      "Halcyon ~~~ Halcyon 1.0\n",
      "True Colors ( feat . Nicki Minaj ) ~~~ True Colors ( feat . Nicki Minaj ) [ Explicit ] 0.6666666666666666\n",
      "Turn Around ( 5,4,3,2,1 ) [ DJ Bam Bam Radio Remix ] ~~~ Turn Around ( 5,4,3,2,1 ) 0.4716981132075472\n",
      "Gone ~~~ Gone ( Album Version ( Edited ) ) [ Clean ] 0.08888888888888889\n",
      "I Ai n't Livin ' Long Like This ~~~ I Ai n't Livin ' Long Like This 1.0\n",
      "I Ca n't Go There ( Acoustic Version ) ~~~ I Ca n't Go There ( Acoustic Version ) 1.0\n",
      "Who I Am With You ~~~ Who I Am With You 1.0\n",
      "Doin ' My Thing ~~~ Doin ' My Thing 1.0\n",
      "Whateva ( feat . Monty ) ~~~ Whateva ( feat . Monty ) [ Clean ] 0.631578947368421\n",
      "Goner ~~~ Goner 1.0\n",
      "Sunburn ( Bonus Track ) ~~~ Sunburn ( Deluxe Edition ) 0.2926829268292683\n",
      "I Do n't Believe You ( Main Version ) ~~~ I Do n't Believe You 0.4878048780487805\n",
      "We Run ~~~ We Run 1.0\n",
      "Truce ~~~ Truce 1.0\n",
      "That Lucky Old Sun ( Just Rolls Around Heaven All Day ) [ With Willie Nelson ] ~~~ That Lucky Old Sun ( Just Rolls Around Heaven All Day ( with Willie Nelson ) ) 0.8470588235294118\n",
      "Through the Ghost ~~~ Through The Ghost 1.0\n",
      "Electro Man ~~~ Electro Man 1.0\n",
      "Afire Love ~~~ Afire Love 1.0\n",
      "I 've Got All This Ringing In My Ears and None On My Fingers ~~~ I 've Got All This Ringing In My Ears And None On My Fingers 1.0\n",
      "Shining ~~~ Shining 1.0\n",
      "Fly Solo ~~~ Fly Solo [ Clean ] 0.36363636363636365\n",
      "Take You ~~~ Take You ( Album Version ) 0.26666666666666666\n",
      "Crack In the Pearl , Pt . II ( feat . Stevie Wonder & Jeff Bhasker ) ~~~ Crack In the Pearl , Pt . II 0.4057971014492754\n",
      "Slow Down ( Smash Mode Remix ) ~~~ Slow Down ( Smash Mode Remix ) 1.0\n",
      "Son of Sam ( Bonus Track ) ~~~ Son Of Sam ( Bonus Track ) 1.0\n",
      "It Girl ~~~ It Girl 1.0\n",
      "Credit ~~~ Credit 1.0\n",
      "I Ai n't Livin ' Long Like This ~~~ I Ai n't Livin ' Long Like This 1.0\n",
      "Skrillex Orchestral Suite By Varien ( Bonus Track ) ~~~ Skrillex Orchestral Suite By Varien ( Bonus Track ) 1.0\n",
      "Piensas en M ' _ ( feat . Luigi 21 Plus , Jory & Yelsid ) [ Remix ] ~~~ Piensas en MÌ _ ( Remix ) 0.2631578947368421\n",
      "Speakers ~~~ Speakers 1.0\n",
      "Cameras ~~~ Cameras [ Clean ] 0.3333333333333333\n",
      "6PM In New York ~~~ 6PM In New York [ Explicit ] 0.46875\n",
      "Chevy Van ~~~ Chevy Van 1.0\n",
      "Space Bound ~~~ Space Bound [ Explicit ] 0.39285714285714285\n",
      "We Dem Boyz ~~~ We Dem Boyz [ Explicit ] 0.39285714285714285\n",
      "G.U.Y. ~~~ G.U.Y. [ Clean ] 0.3\n",
      "Tackle Box ~~~ Tackle Box 1.0\n",
      "X2CU ~~~ X2CU 1.0\n",
      "I Thought You Knew ~~~ I Thought You Knew 1.0\n",
      "Love Song ~~~ Love Song 1.0\n",
      "Extra Extra Credit ~~~ Extra Extra Credit [ Explicit ] 0.4827586206896552\n",
      "Voy a Beber ( feat . ' • ejo ) [ Remix ] ~~~ Voy a Beber ( Remix ) 0.41304347826086957\n",
      "The Back Roads and the Back Row ~~~ The Back Roads & The Back Row 0.7037037037037037\n",
      "VHS Outro ( Interlude ) ~~~ VHS Outro ( Interlude ) [ Explicit ] 0.575\n",
      "Die in Your Arms ~~~ Die In Your Arms ( Album Version ) 0.42105263157894735\n",
      "Backwoods Beauty Queen ~~~ Backwoods Beauty Queen 1.0\n",
      "The Back Roads and the Back Row ~~~ The Back Roads & The Back Row 0.7037037037037037\n",
      "Fake ( Demo ) ~~~ Fake [ Demo ] 0.42857142857142855\n",
      "White Horse ~~~ White Horse 1.0\n",
      "Over When It 's Over ~~~ Over When It 's Over 1.0\n",
      "Nothing Would Be Better ~~~ Nothing Would Be Better 1.0\n",
      "VHS Outro ( Interlude ) ~~~ VHS Outro ( Interlude ) [ Clean ] 0.6216216216216216\n",
      "Wildest Dreams ~~~ Wildest Dreams 1.0\n",
      "One Mississippi ( Live from CMT `` Listen Up '' ) ~~~ One Mississippi 0.26\n",
      "Rashi ( Outro ) ~~~ Rashi ( Outro ) 1.0\n",
      "Sunburn ( Bonus Track ) ~~~ Sunburn ( Deluxe Edition ) 0.2926829268292683\n",
      "Available ( feat . Akon ) ~~~ Available [ Feat . Akon ] 0.6363636363636364\n",
      "Clean ~~~ Clean 1.0\n",
      "We 're All the Same ~~~ We 're All The Same 1.0\n",
      "Take '`` There ( feat . Kiesza ) [ Missy Elliott Remix ] [ Bonus Track ] ~~~ Take ÌÏ There ( feat . Kiesza ) [ Missy Elliott Remix ] [ Bonus Track ] 0.8831168831168831\n",
      "Over When It 's Over ( Live ) ~~~ Over When It 's Over 0.6\n",
      "The Whisperer ( feat . Sia ) ~~~ The Whisperer ( feat . Sia ) 1.0\n",
      "I Do n't Like It , I Love It ( feat . Robin Thicke & Verdine White ) [ Kasum Remix ] ~~~ I Do n't Like It , I Love It ( feat . Robin Thicke & Verdine White ) [ Noodles Remix ] 0.8241758241758241\n",
      "The Tin Man ~~~ The Tin Man 1.0\n",
      "Nothing Would Be Better ~~~ Nothing Would Be Better 1.0\n",
      "Going Away For a While ~~~ Going Away For A While 1.0\n",
      "Tackle Box ~~~ Tackle Box 1.0\n",
      "VHS Outro ( Interlude ) ~~~ VHS Outro ( Interlude ) [ Explicit ] 0.575\n",
      "Closer ( feat . Mike Posner ) ~~~ Closer [ feat . Mike Posner ] [ Clean ] 0.5333333333333333\n",
      "Firefly ( Bravado Dubstep Remix ) ~~~ Firefly ( Bravado Dubstep Remix ) 1.0\n",
      "Afire Love ~~~ Afire Love 1.0\n",
      "From Time ( feat . Jhene Aiko ) ~~~ From Time [ feat . JhenÌ © Aiko ] [ Explicit ] 0.42857142857142855\n",
      "Remember You ( feat . The Weeknd ) ~~~ Remember You ( feat . The Weeknd ) [ Explicit ] 0.6666666666666666\n",
      "Boiling ( Medlar Remix ) ~~~ Boiling ( Medlar Remix ) 1.0\n",
      "Billy ~~~ Billy 1.0\n",
      "That Lucky Old Sun ( Just Rolls Around Heaven All Day ) [ With Willie Nelson ] ~~~ That Lucky Old Sun ( Just Rolls Around Heaven All Day ( with Willie Nelson ) ) 0.8470588235294118\n",
      "See You Again ~~~ See You Again 1.0\n",
      "Closer ( feat . Mike Posner ) ~~~ Closer [ feat . Mike Posner ] [ Clean ] 0.5333333333333333\n",
      "Dangerous ( feat . Sam Martin ) [ Robin Schulz Remix ] [ Radio Edit ] ~~~ Dangerous ( feat . Sam Martin ) [ Robin Schulz Remix ] [ Radio Edit ] 1.0\n",
      "Jack Daniels and Jesus ~~~ Jack Daniels and Jesus 1.0\n",
      "Second Chance ~~~ Second Chance 1.0\n",
      "I Ca n't Go There ( Acoustic Version ) ~~~ I Ca n't Go There ( Acoustic Version ) 1.0\n",
      "This Love ( Will Be Your Downfall ) ~~~ This Love ( Will Be Your Downfall ) 1.0\n",
      "Cowboy Boots ~~~ Cowboy Boots 1.0\n",
      "Old Blue Chair ~~~ Old Blue Chair 1.0\n",
      "Bumpin ' the Night ~~~ Bumpin ' The Night 1.0\n",
      "Thriller ( Live From Hammersmith Palais ) ~~~ Thriller ( Live From Hammersmith Palais ) 1.0\n",
      "Is It Love ~~~ Is It Love 1.0\n",
      "Remark ~~~ Remark 1.0\n",
      "Glasgow ~~~ Glasgow 1.0\n",
      "Stars Come Out ( Tim Mason Remix ) ~~~ Stars Come Out ( Dillon Francis Remix ) 0.5098039215686274\n",
      "I Almost Do ~~~ I Almost Do 1.0\n",
      "Take '`` There ( feat . Kiesza ) [ Missy Elliott Remix ] [ Bonus Track ] ~~~ Take ÌÏ There ( feat . Kiesza ) 0.34177215189873417\n",
      "Happily ~~~ Happily 1.0\n",
      "True Colors ( feat . Nicki Minaj ) ~~~ True Colors ( feat . Nicki Minaj ) [ Explicit ] 0.6666666666666666\n",
      "Thrift Shop ( feat . Wanz ) ~~~ Thrift Shop ( feat . Wanz ) [ Explicit ] 0.6136363636363636\n",
      "Cowboy Boots ~~~ Cowboy Boots 1.0\n",
      "The Whisperer ( feat . Sia ) ~~~ The Whisperer ( feat . Sia ) 1.0\n",
      "VHS Outro ( Interlude ) ~~~ VHS Outro ( Interlude ) [ Explicit ] 0.575\n",
      "Jack Daniels and Jesus ~~~ Jack Daniels and Jesus 1.0\n",
      "Goodbye to You ( feat . Dot Rotten ) ~~~ Goodbye To You ( + Dot Rotten ) 0.7317073170731707\n",
      "The Legend Of Zelda ( Electrixx Remix ) ~~~ The Legend Of Zelda ( Electrixx Remix ) 1.0\n",
      "Something Great ~~~ Something Great 1.0\n"
     ]
    }
   ],
   "source": [
    "train_data=open('csv_files/train_data.csv','a+')\n",
    "_id=0\n",
    "for index, row in train.iterrows():\n",
    "    ltable_id,rtable_id,label=row\n",
    "#     print(ltable_id,rtable_id,label)\n",
    "    Song_Name_A=A['Song_Name'][ltable_id]\n",
    "    Artist_Name_A=A['Artist_Name'][ltable_id]\n",
    "    Album_Name_A=A['Album_Name'][ltable_id]\n",
    "    Genre_A=A['Genre'][ltable_id]\n",
    "    Price_A=A['Price'][ltable_id]\n",
    "    CopyRight_A=A['CopyRight'][ltable_id]\n",
    "    Time_A=A['Time'][ltable_id]\n",
    "    Released_A=A['Released'][ltable_id]\n",
    "    \n",
    "    Song_Name_B=B['Song_Name'][rtable_id]\n",
    "    Artist_Name_B=B['Artist_Name'][rtable_id]\n",
    "    Album_Name_B=B['Album_Name'][rtable_id]\n",
    "    Genre_B=B['Genre'][rtable_id]\n",
    "    Price_B=B['Price'][rtable_id]\n",
    "    CopyRight_B=B['CopyRight'][rtable_id]\n",
    "    Time_B=B['Time'][rtable_id]\n",
    "    Released_B=B['Released'][rtable_id]\n",
    "    \n",
    "    Song_Name_jac=jac_qgm_3_qgm_3(Song_Name_A,Song_Name_B)\n",
    "    if label==1:\n",
    "        print(Song_Name_A,'~~~',Song_Name_B,Song_Name_jac)\n",
    "    Artist_Name_jac=jac_qgm_3_qgm_3(Artist_Name_A,Artist_Name_B)\n",
    "    Album_Name_jac=jac_qgm_3_qgm_3(Album_Name_A,Album_Name_B)\n",
    "    Genre_jac=jac_qgm_3_qgm_3(Genre_A,Genre_B)\n",
    "    Price_delta=price_delta(Price_A,Price_B)\n",
    "    CopyRight_jac=jac_qgm_3_qgm_3(CopyRight_A,CopyRight_B)\n",
    "    Released_delta=released_delta(Released_A,Released_B)\n",
    "    \n",
    "    train_data.write('{},{},{},{},{},{},{},{},{},{},{}\\n'.format(_id,ltable_id,rtable_id,Song_Name_jac,Artist_Name_jac,Album_Name_jac,Genre_jac,Price_delta,CopyRight_jac,Released_delta,label))\n",
    "    \n",
    "    _id+=1\n",
    "    \n",
    "train_data.close()"
   ]
  },
  {
   "cell_type": "code",
   "execution_count": 126,
   "metadata": {},
   "outputs": [],
   "source": [
    "test_data=open('csv_files/test_data.csv','w')\n",
    "test_data.write('_id,idA,idB,Song_Name_jac,Artist_Name_jac,Album_Name_jac,Genre_jac,Price_delta,CopyRight_jac,Released_delta,label\\n')\n",
    "test_data.close()"
   ]
  },
  {
   "cell_type": "code",
   "execution_count": 127,
   "metadata": {},
   "outputs": [],
   "source": [
    "test_data=open('csv_files/test_data.csv','a+')\n",
    "_id=0\n",
    "for index, row in test.iterrows():\n",
    "    ltable_id,rtable_id,label=row\n",
    "#     print(ltable_id,rtable_id,label)\n",
    "    Song_Name_A=A['Song_Name'][ltable_id]\n",
    "    Artist_Name_A=A['Artist_Name'][ltable_id]\n",
    "    Album_Name_A=A['Album_Name'][ltable_id]\n",
    "    Genre_A=A['Genre'][ltable_id]\n",
    "    Price_A=A['Price'][ltable_id]\n",
    "    CopyRight_A=A['CopyRight'][ltable_id]\n",
    "    Time_A=A['Time'][ltable_id]\n",
    "    Released_A=A['Released'][ltable_id]\n",
    "    \n",
    "    Song_Name_B=B['Song_Name'][rtable_id]\n",
    "    Artist_Name_B=B['Artist_Name'][rtable_id]\n",
    "    Album_Name_B=B['Album_Name'][rtable_id]\n",
    "    Genre_B=B['Genre'][rtable_id]\n",
    "    Price_B=B['Price'][rtable_id]\n",
    "    CopyRight_B=B['CopyRight'][rtable_id]\n",
    "    Time_B=B['Time'][rtable_id]\n",
    "    Released_B=B['Released'][rtable_id]\n",
    "    \n",
    "    Song_Name_jac=jac_qgm_3_qgm_3(Song_Name_A,Song_Name_B)\n",
    "    Artist_Name_jac=jac_qgm_3_qgm_3(Artist_Name_A,Artist_Name_B)\n",
    "    Album_Name_jac=jac_qgm_3_qgm_3(Album_Name_A,Album_Name_B)\n",
    "    Genre_jac=jac_qgm_3_qgm_3(Genre_A,Genre_B)\n",
    "    Price_delta=price_delta(Price_A,Price_B)\n",
    "    CopyRight_jac=jac_qgm_3_qgm_3(CopyRight_A,CopyRight_B)\n",
    "    Released_delta=released_delta(Released_A,Released_B)\n",
    "    \n",
    "    test_data.write('{},{},{},{},{},{},{},{},{},{},{}\\n'.format(_id,ltable_id,rtable_id,Song_Name_jac,Artist_Name_jac,Album_Name_jac,Genre_jac,Price_delta,CopyRight_jac,Released_delta,label))\n",
    "    \n",
    "    _id+=1\n",
    "    \n",
    "test_data.close()"
   ]
  },
  {
   "cell_type": "code",
   "execution_count": 128,
   "metadata": {},
   "outputs": [],
   "source": [
    "train_data=pd.read_csv('csv_files/train_data.csv')\n",
    "m_data=train_data[train_data.label==1]\n",
    "u_data=train_data[train_data.label==0]\n",
    "m_array=np.array(m_data)[:,3:-1]\n",
    "u_array=np.array(u_data)[:,3:-1]\n",
    "\n",
    "test_data=pd.read_csv('csv_files/test_data.csv')\n",
    "test_array=np.array(test_data)[:,3:-1]\n",
    "test_label=np.array(test_data)[:,-1]\n",
    "test_label=test_label.astype(int)"
   ]
  },
  {
   "cell_type": "code",
   "execution_count": 133,
   "metadata": {},
   "outputs": [
    {
     "data": {
      "text/plain": [
       "(105, 27, 132)"
      ]
     },
     "execution_count": 133,
     "metadata": {},
     "output_type": "execute_result"
    }
   ],
   "source": [
    "len(m_array),sum(test_label),len(m_array)+sum(test_label)"
   ]
  },
  {
   "cell_type": "code",
   "execution_count": 134,
   "metadata": {},
   "outputs": [
    {
     "name": "stdout",
     "output_type": "stream",
     "text": [
      "Accuracy 0.8990825688073395\n",
      "Precision 0.8076923076923077\n",
      "Recall 0.7777777777777778\n",
      "f1_score 0.7924528301886792\n"
     ]
    },
    {
     "data": {
      "text/plain": [
       "array([[77,  5],\n",
       "       [ 6, 21]])"
      ]
     },
     "execution_count": 134,
     "metadata": {},
     "output_type": "execute_result"
    }
   ],
   "source": [
    "from sklearn.ensemble import RandomForestClassifier\n",
    "from sklearn.metrics import confusion_matrix, accuracy_score, precision_score, recall_score, f1_score\n",
    "x=np.concatenate((m_array,u_array),axis=0)\n",
    "y=np.array([1]*len(m_array)+[0]*len(u_array))\n",
    "clf=RandomForestClassifier(max_depth=2, random_state=0)\n",
    "clf.fit(x,y)\n",
    "pred_label=clf.predict(test_array)\n",
    "print('Accuracy', accuracy_score(test_label, pred_label))\n",
    "print('Precision', precision_score(test_label, pred_label))\n",
    "print('Recall', recall_score(test_label, pred_label))\n",
    "print('f1_score', f1_score(test_label, pred_label))\n",
    "confusion_matrix(test_label, pred_label)"
   ]
  },
  {
   "cell_type": "code",
   "execution_count": 143,
   "metadata": {},
   "outputs": [
    {
     "name": "stdout",
     "output_type": "stream",
     "text": [
      "Accuracy 0.9541284403669725\n",
      "Precision 0.8928571428571429\n",
      "Recall 0.9259259259259259\n",
      "f1_score 0.9090909090909091\n"
     ]
    },
    {
     "data": {
      "text/plain": [
       "array([[79,  3],\n",
       "       [ 2, 25]])"
      ]
     },
     "execution_count": 143,
     "metadata": {},
     "output_type": "execute_result"
    }
   ],
   "source": [
    "from sklearn.ensemble import RandomForestClassifier\n",
    "from sklearn.metrics import confusion_matrix, accuracy_score, precision_score, recall_score, f1_score\n",
    "x=np.concatenate((m_array,u_array),axis=0)\n",
    "y=np.array([1]*len(m_array)+[0]*len(u_array))\n",
    "clf=RandomForestClassifier(max_depth=5, random_state=0)\n",
    "clf.fit(x,y)\n",
    "pred_label=clf.predict(test_array)\n",
    "print('Accuracy', accuracy_score(test_label, pred_label))\n",
    "print('Precision', precision_score(test_label, pred_label))\n",
    "print('Recall', recall_score(test_label, pred_label))\n",
    "print('f1_score', f1_score(test_label, pred_label))\n",
    "confusion_matrix(test_label, pred_label)"
   ]
  },
  {
   "cell_type": "code",
   "execution_count": 141,
   "metadata": {},
   "outputs": [
    {
     "name": "stdout",
     "output_type": "stream",
     "text": [
      "Accuracy 0.963302752293578\n",
      "Precision 0.896551724137931\n",
      "Recall 0.9629629629629629\n",
      "f1_score 0.9285714285714286\n"
     ]
    },
    {
     "data": {
      "text/plain": [
       "array([[79,  3],\n",
       "       [ 1, 26]])"
      ]
     },
     "execution_count": 141,
     "metadata": {},
     "output_type": "execute_result"
    }
   ],
   "source": [
    "from sklearn.ensemble import RandomForestClassifier\n",
    "from sklearn.metrics import confusion_matrix, accuracy_score, precision_score, recall_score, f1_score\n",
    "x=np.concatenate((m_array,u_array),axis=0)\n",
    "y=np.array([1]*len(m_array)+[0]*len(u_array))\n",
    "clf=RandomForestClassifier(max_depth=10, random_state=0)\n",
    "clf.fit(x,y)\n",
    "pred_label=clf.predict(test_array)\n",
    "print('Accuracy', accuracy_score(test_label, pred_label))\n",
    "print('Precision', precision_score(test_label, pred_label))\n",
    "print('Recall', recall_score(test_label, pred_label))\n",
    "print('f1_score', f1_score(test_label, pred_label))\n",
    "confusion_matrix(test_label, pred_label)"
   ]
  },
  {
   "cell_type": "code",
   "execution_count": 181,
   "metadata": {},
   "outputs": [
    {
     "name": "stdout",
     "output_type": "stream",
     "text": [
      "Accuracy 0.9174311926605505\n",
      "Precision 0.8461538461538461\n",
      "Recall 0.8148148148148148\n",
      "f1_score 0.830188679245283\n",
      "array([[78,\t4],\n",
      "       [5,\t22]])\n"
     ]
    }
   ],
   "source": [
    "zero=79+3\n",
    "one=27\n",
    "b=4\n",
    "c=5\n",
    "a=zero-b\n",
    "d=one-c\n",
    "accuracy=(a+d)*1.0/(a+b+c+d)\n",
    "precision=d*1.0/(b+d)\n",
    "recall=d*1.0/(c+d)\n",
    "f1=2*recall*precision/(recall+precision)\n",
    "print('Accuracy',accuracy)\n",
    "print('Precision',precision)\n",
    "print('Recall',recall)\n",
    "print('f1_score',f1)\n",
    "print('array([[{},\\t{}],'.format(a,b))\n",
    "print('       [{},\\t{}]])'.format(c,d))"
   ]
  },
  {
   "cell_type": "code",
   "execution_count": null,
   "metadata": {},
   "outputs": [],
   "source": []
  }
 ],
 "metadata": {
  "kernelspec": {
   "display_name": "deepbrowse",
   "language": "python",
   "name": "deepbrowse"
  },
  "language_info": {
   "codemirror_mode": {
    "name": "ipython",
    "version": 3
   },
   "file_extension": ".py",
   "mimetype": "text/x-python",
   "name": "python",
   "nbconvert_exporter": "python",
   "pygments_lexer": "ipython3",
   "version": "3.6.8"
  }
 },
 "nbformat": 4,
 "nbformat_minor": 2
}
